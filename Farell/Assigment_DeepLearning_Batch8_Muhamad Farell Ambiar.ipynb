{
  "nbformat": 4,
  "nbformat_minor": 0,
  "metadata": {
    "colab": {
      "name": "Deep_Learning_Batch_8_Assignment_1_Muhamad Farell Ambiar.ipynb",
      "provenance": [],
      "collapsed_sections": []
    },
    "kernelspec": {
      "name": "python3",
      "display_name": "Python 3"
    },
    "language_info": {
      "name": "python"
    }
  },
  "cells": [
    {
      "cell_type": "markdown",
      "metadata": {
        "id": "UNf9Ohaw9TqM"
      },
      "source": [
        "# Importing Libraries"
      ]
    },
    {
      "cell_type": "code",
      "metadata": {
        "id": "dNKOEw7L7OIt",
        "colab": {
          "base_uri": "https://localhost:8080/"
        },
        "outputId": "5cf211de-5e3b-4178-d4a6-6c3959022bdc"
      },
      "source": [
        "import pandas as pd\n",
        "import numpy as np\n",
        "import matplotlib.pyplot as plt\n",
        "import seaborn as sns\n",
        "\n",
        "from sklearn.preprocessing import StandardScaler\n",
        "from sklearn.model_selection import train_test_split\n",
        "from sklearn.datasets.samples_generator import make_blobs\n",
        "\n",
        "from tensorflow.keras.layers import Dense\n",
        "from tensorflow.keras.models import Sequential\n",
        "from tensorflow.keras.optimizers import SGD, Adam\n",
        "from tensorflow.keras.utils import to_categorical\n",
        "# from keras.optimizers import SGD\n",
        "# from keras.utils import to_categorical"
      ],
      "execution_count": 1,
      "outputs": [
        {
          "output_type": "stream",
          "name": "stderr",
          "text": [
            "/usr/local/lib/python3.7/dist-packages/sklearn/utils/deprecation.py:144: FutureWarning: The sklearn.datasets.samples_generator module is  deprecated in version 0.22 and will be removed in version 0.24. The corresponding classes / functions should instead be imported from sklearn.datasets. Anything that cannot be imported from sklearn.datasets is now part of the private API.\n",
            "  warnings.warn(message, FutureWarning)\n"
          ]
        }
      ]
    },
    {
      "cell_type": "code",
      "metadata": {
        "id": "0BPlgoC08z6b"
      },
      "source": [
        "plt.style.use('dark_background')"
      ],
      "execution_count": 2,
      "outputs": []
    },
    {
      "cell_type": "markdown",
      "metadata": {
        "id": "D5mX6lds9Qye"
      },
      "source": [
        "# Data Loading"
      ]
    },
    {
      "cell_type": "code",
      "metadata": {
        "colab": {
          "base_uri": "https://localhost:8080/"
        },
        "id": "iAg4njYe9Mx-",
        "outputId": "ed768ef9-dd60-4568-c039-0d636056ba91"
      },
      "source": [
        "!git clone https://github.com/alleFarell/Datasets-ML.git"
      ],
      "execution_count": 3,
      "outputs": [
        {
          "output_type": "stream",
          "name": "stdout",
          "text": [
            "fatal: destination path 'Datasets-ML' already exists and is not an empty directory.\n"
          ]
        }
      ]
    },
    {
      "cell_type": "markdown",
      "metadata": {
        "id": "unGEE4V_9Cmf"
      },
      "source": [
        "# Data Description"
      ]
    },
    {
      "cell_type": "markdown",
      "metadata": {
        "id": "pETFbk7eBrCV"
      },
      "source": [
        "1. #3 (age) : age in years\n",
        "2. #4 (sex) : sex (1 = male; 0 = female)\n",
        "3. #9 (cp) : chest pain type\n",
        "        -- Value 1: typical angina\n",
        "        -- Value 2: atypical angina\n",
        "        -- Value 3: non-anginal pain\n",
        "        -- Value 4: asymptomatic\n",
        "4. #10 (trestbps) : resting blood pressure (in mm Hg on admission to the hospital)\n",
        "5. #12 (chol) : serum cholestoral in mg/dl\n",
        "6. #16 (fbs) : (fasting blood sugar > 120 mg/dl)  (1 = true; 0 = false)\n",
        "7. #19 (restecg) : resting electrocardiographic results\n",
        "        -- Value 0: normal\n",
        "        -- Value 1: having ST-T wave abnormality (T wave inversions and/or ST \n",
        "                    elevation or depression of > 0.05 mV)\n",
        "        -- Value 2: showing probable or definite left ventricular hypertrophy\n",
        "                    by Estes' criteria\n",
        "8. #32 (thalach) : maximum heart rate achieved\n",
        "9. #38 (exang) : exercise induced angina (1 = yes; 0 = no)\n",
        "10. #40 (oldpeak) : ST depression induced by exercise relative to rest\n",
        "11. #41 (slope) : the slope of the peak exercise ST segment\n",
        "        -- Value 1: upsloping\n",
        "        -- Value 2: flat\n",
        "        -- Value 3: downsloping\n",
        "12. #44 (ca) : number of major vessels (0-3) colored by flourosopy\n",
        "13. #51 (thal) : 3 = normal; 6 = fixed defect; 7 = reversable defect\n",
        "14. #58 (presence) : diagnosis of heart disease (angiographic disease status)\n",
        "        -- Value 0: < 50% diameter narrowing\n",
        "        -- Value 1: > 50% diameter narrowing\n",
        "        (in any major vessel: attributes 59 through 68 are vessels)"
      ]
    },
    {
      "cell_type": "code",
      "metadata": {
        "id": "4lpxJdZ_ButT"
      },
      "source": [
        "names = ['age', 'sex', 'cp', 'trestbps', 'chol', 'fbs', 'restecg', 'thalach', 'exang', 'oldpeak', 'slope', 'ca', 'thal', 'presence']"
      ],
      "execution_count": 4,
      "outputs": []
    },
    {
      "cell_type": "code",
      "metadata": {
        "colab": {
          "base_uri": "https://localhost:8080/",
          "height": 417
        },
        "id": "pStOeo5t-8gq",
        "outputId": "6edfab7e-8d23-47ba-965a-373d58362195"
      },
      "source": [
        "df = pd.read_csv('Datasets-ML/processed.cleveland.data', sep=',', na_values='?', names=names)\n",
        "df"
      ],
      "execution_count": 5,
      "outputs": [
        {
          "output_type": "execute_result",
          "data": {
            "text/html": [
              "<div>\n",
              "<style scoped>\n",
              "    .dataframe tbody tr th:only-of-type {\n",
              "        vertical-align: middle;\n",
              "    }\n",
              "\n",
              "    .dataframe tbody tr th {\n",
              "        vertical-align: top;\n",
              "    }\n",
              "\n",
              "    .dataframe thead th {\n",
              "        text-align: right;\n",
              "    }\n",
              "</style>\n",
              "<table border=\"1\" class=\"dataframe\">\n",
              "  <thead>\n",
              "    <tr style=\"text-align: right;\">\n",
              "      <th></th>\n",
              "      <th>age</th>\n",
              "      <th>sex</th>\n",
              "      <th>cp</th>\n",
              "      <th>trestbps</th>\n",
              "      <th>chol</th>\n",
              "      <th>fbs</th>\n",
              "      <th>restecg</th>\n",
              "      <th>thalach</th>\n",
              "      <th>exang</th>\n",
              "      <th>oldpeak</th>\n",
              "      <th>slope</th>\n",
              "      <th>ca</th>\n",
              "      <th>thal</th>\n",
              "      <th>presence</th>\n",
              "    </tr>\n",
              "  </thead>\n",
              "  <tbody>\n",
              "    <tr>\n",
              "      <th>0</th>\n",
              "      <td>63.0</td>\n",
              "      <td>1.0</td>\n",
              "      <td>1.0</td>\n",
              "      <td>145.0</td>\n",
              "      <td>233.0</td>\n",
              "      <td>1.0</td>\n",
              "      <td>2.0</td>\n",
              "      <td>150.0</td>\n",
              "      <td>0.0</td>\n",
              "      <td>2.3</td>\n",
              "      <td>3.0</td>\n",
              "      <td>0.0</td>\n",
              "      <td>6.0</td>\n",
              "      <td>0</td>\n",
              "    </tr>\n",
              "    <tr>\n",
              "      <th>1</th>\n",
              "      <td>67.0</td>\n",
              "      <td>1.0</td>\n",
              "      <td>4.0</td>\n",
              "      <td>160.0</td>\n",
              "      <td>286.0</td>\n",
              "      <td>0.0</td>\n",
              "      <td>2.0</td>\n",
              "      <td>108.0</td>\n",
              "      <td>1.0</td>\n",
              "      <td>1.5</td>\n",
              "      <td>2.0</td>\n",
              "      <td>3.0</td>\n",
              "      <td>3.0</td>\n",
              "      <td>2</td>\n",
              "    </tr>\n",
              "    <tr>\n",
              "      <th>2</th>\n",
              "      <td>67.0</td>\n",
              "      <td>1.0</td>\n",
              "      <td>4.0</td>\n",
              "      <td>120.0</td>\n",
              "      <td>229.0</td>\n",
              "      <td>0.0</td>\n",
              "      <td>2.0</td>\n",
              "      <td>129.0</td>\n",
              "      <td>1.0</td>\n",
              "      <td>2.6</td>\n",
              "      <td>2.0</td>\n",
              "      <td>2.0</td>\n",
              "      <td>7.0</td>\n",
              "      <td>1</td>\n",
              "    </tr>\n",
              "    <tr>\n",
              "      <th>3</th>\n",
              "      <td>37.0</td>\n",
              "      <td>1.0</td>\n",
              "      <td>3.0</td>\n",
              "      <td>130.0</td>\n",
              "      <td>250.0</td>\n",
              "      <td>0.0</td>\n",
              "      <td>0.0</td>\n",
              "      <td>187.0</td>\n",
              "      <td>0.0</td>\n",
              "      <td>3.5</td>\n",
              "      <td>3.0</td>\n",
              "      <td>0.0</td>\n",
              "      <td>3.0</td>\n",
              "      <td>0</td>\n",
              "    </tr>\n",
              "    <tr>\n",
              "      <th>4</th>\n",
              "      <td>41.0</td>\n",
              "      <td>0.0</td>\n",
              "      <td>2.0</td>\n",
              "      <td>130.0</td>\n",
              "      <td>204.0</td>\n",
              "      <td>0.0</td>\n",
              "      <td>2.0</td>\n",
              "      <td>172.0</td>\n",
              "      <td>0.0</td>\n",
              "      <td>1.4</td>\n",
              "      <td>1.0</td>\n",
              "      <td>0.0</td>\n",
              "      <td>3.0</td>\n",
              "      <td>0</td>\n",
              "    </tr>\n",
              "    <tr>\n",
              "      <th>...</th>\n",
              "      <td>...</td>\n",
              "      <td>...</td>\n",
              "      <td>...</td>\n",
              "      <td>...</td>\n",
              "      <td>...</td>\n",
              "      <td>...</td>\n",
              "      <td>...</td>\n",
              "      <td>...</td>\n",
              "      <td>...</td>\n",
              "      <td>...</td>\n",
              "      <td>...</td>\n",
              "      <td>...</td>\n",
              "      <td>...</td>\n",
              "      <td>...</td>\n",
              "    </tr>\n",
              "    <tr>\n",
              "      <th>298</th>\n",
              "      <td>45.0</td>\n",
              "      <td>1.0</td>\n",
              "      <td>1.0</td>\n",
              "      <td>110.0</td>\n",
              "      <td>264.0</td>\n",
              "      <td>0.0</td>\n",
              "      <td>0.0</td>\n",
              "      <td>132.0</td>\n",
              "      <td>0.0</td>\n",
              "      <td>1.2</td>\n",
              "      <td>2.0</td>\n",
              "      <td>0.0</td>\n",
              "      <td>7.0</td>\n",
              "      <td>1</td>\n",
              "    </tr>\n",
              "    <tr>\n",
              "      <th>299</th>\n",
              "      <td>68.0</td>\n",
              "      <td>1.0</td>\n",
              "      <td>4.0</td>\n",
              "      <td>144.0</td>\n",
              "      <td>193.0</td>\n",
              "      <td>1.0</td>\n",
              "      <td>0.0</td>\n",
              "      <td>141.0</td>\n",
              "      <td>0.0</td>\n",
              "      <td>3.4</td>\n",
              "      <td>2.0</td>\n",
              "      <td>2.0</td>\n",
              "      <td>7.0</td>\n",
              "      <td>2</td>\n",
              "    </tr>\n",
              "    <tr>\n",
              "      <th>300</th>\n",
              "      <td>57.0</td>\n",
              "      <td>1.0</td>\n",
              "      <td>4.0</td>\n",
              "      <td>130.0</td>\n",
              "      <td>131.0</td>\n",
              "      <td>0.0</td>\n",
              "      <td>0.0</td>\n",
              "      <td>115.0</td>\n",
              "      <td>1.0</td>\n",
              "      <td>1.2</td>\n",
              "      <td>2.0</td>\n",
              "      <td>1.0</td>\n",
              "      <td>7.0</td>\n",
              "      <td>3</td>\n",
              "    </tr>\n",
              "    <tr>\n",
              "      <th>301</th>\n",
              "      <td>57.0</td>\n",
              "      <td>0.0</td>\n",
              "      <td>2.0</td>\n",
              "      <td>130.0</td>\n",
              "      <td>236.0</td>\n",
              "      <td>0.0</td>\n",
              "      <td>2.0</td>\n",
              "      <td>174.0</td>\n",
              "      <td>0.0</td>\n",
              "      <td>0.0</td>\n",
              "      <td>2.0</td>\n",
              "      <td>1.0</td>\n",
              "      <td>3.0</td>\n",
              "      <td>1</td>\n",
              "    </tr>\n",
              "    <tr>\n",
              "      <th>302</th>\n",
              "      <td>38.0</td>\n",
              "      <td>1.0</td>\n",
              "      <td>3.0</td>\n",
              "      <td>138.0</td>\n",
              "      <td>175.0</td>\n",
              "      <td>0.0</td>\n",
              "      <td>0.0</td>\n",
              "      <td>173.0</td>\n",
              "      <td>0.0</td>\n",
              "      <td>0.0</td>\n",
              "      <td>1.0</td>\n",
              "      <td>NaN</td>\n",
              "      <td>3.0</td>\n",
              "      <td>0</td>\n",
              "    </tr>\n",
              "  </tbody>\n",
              "</table>\n",
              "<p>303 rows × 14 columns</p>\n",
              "</div>"
            ],
            "text/plain": [
              "      age  sex   cp  trestbps   chol  ...  oldpeak  slope   ca  thal  presence\n",
              "0    63.0  1.0  1.0     145.0  233.0  ...      2.3    3.0  0.0   6.0         0\n",
              "1    67.0  1.0  4.0     160.0  286.0  ...      1.5    2.0  3.0   3.0         2\n",
              "2    67.0  1.0  4.0     120.0  229.0  ...      2.6    2.0  2.0   7.0         1\n",
              "3    37.0  1.0  3.0     130.0  250.0  ...      3.5    3.0  0.0   3.0         0\n",
              "4    41.0  0.0  2.0     130.0  204.0  ...      1.4    1.0  0.0   3.0         0\n",
              "..    ...  ...  ...       ...    ...  ...      ...    ...  ...   ...       ...\n",
              "298  45.0  1.0  1.0     110.0  264.0  ...      1.2    2.0  0.0   7.0         1\n",
              "299  68.0  1.0  4.0     144.0  193.0  ...      3.4    2.0  2.0   7.0         2\n",
              "300  57.0  1.0  4.0     130.0  131.0  ...      1.2    2.0  1.0   7.0         3\n",
              "301  57.0  0.0  2.0     130.0  236.0  ...      0.0    2.0  1.0   3.0         1\n",
              "302  38.0  1.0  3.0     138.0  175.0  ...      0.0    1.0  NaN   3.0         0\n",
              "\n",
              "[303 rows x 14 columns]"
            ]
          },
          "metadata": {},
          "execution_count": 5
        }
      ]
    },
    {
      "cell_type": "code",
      "metadata": {
        "colab": {
          "base_uri": "https://localhost:8080/"
        },
        "id": "6ASw-WnqrYOe",
        "outputId": "1222d7b0-8902-4a10-e881-497366ab1327"
      },
      "source": [
        "# Data  Shape\n",
        "print('Total rows:', df.shape[0])\n",
        "print('Total features:', df.shape[1])"
      ],
      "execution_count": 6,
      "outputs": [
        {
          "output_type": "stream",
          "name": "stdout",
          "text": [
            "Total rows: 303\n",
            "Total features: 14\n"
          ]
        }
      ]
    },
    {
      "cell_type": "code",
      "metadata": {
        "colab": {
          "base_uri": "https://localhost:8080/",
          "height": 295
        },
        "id": "-s-r_hBeB3df",
        "outputId": "817a7fb8-8f52-43d8-a192-8b1b786ba47b"
      },
      "source": [
        "df.describe()"
      ],
      "execution_count": 7,
      "outputs": [
        {
          "output_type": "execute_result",
          "data": {
            "text/html": [
              "<div>\n",
              "<style scoped>\n",
              "    .dataframe tbody tr th:only-of-type {\n",
              "        vertical-align: middle;\n",
              "    }\n",
              "\n",
              "    .dataframe tbody tr th {\n",
              "        vertical-align: top;\n",
              "    }\n",
              "\n",
              "    .dataframe thead th {\n",
              "        text-align: right;\n",
              "    }\n",
              "</style>\n",
              "<table border=\"1\" class=\"dataframe\">\n",
              "  <thead>\n",
              "    <tr style=\"text-align: right;\">\n",
              "      <th></th>\n",
              "      <th>age</th>\n",
              "      <th>sex</th>\n",
              "      <th>cp</th>\n",
              "      <th>trestbps</th>\n",
              "      <th>chol</th>\n",
              "      <th>fbs</th>\n",
              "      <th>restecg</th>\n",
              "      <th>thalach</th>\n",
              "      <th>exang</th>\n",
              "      <th>oldpeak</th>\n",
              "      <th>slope</th>\n",
              "      <th>ca</th>\n",
              "      <th>thal</th>\n",
              "      <th>presence</th>\n",
              "    </tr>\n",
              "  </thead>\n",
              "  <tbody>\n",
              "    <tr>\n",
              "      <th>count</th>\n",
              "      <td>303.000000</td>\n",
              "      <td>303.000000</td>\n",
              "      <td>303.000000</td>\n",
              "      <td>303.000000</td>\n",
              "      <td>303.000000</td>\n",
              "      <td>303.000000</td>\n",
              "      <td>303.000000</td>\n",
              "      <td>303.000000</td>\n",
              "      <td>303.000000</td>\n",
              "      <td>303.000000</td>\n",
              "      <td>303.000000</td>\n",
              "      <td>299.000000</td>\n",
              "      <td>301.000000</td>\n",
              "      <td>303.000000</td>\n",
              "    </tr>\n",
              "    <tr>\n",
              "      <th>mean</th>\n",
              "      <td>54.438944</td>\n",
              "      <td>0.679868</td>\n",
              "      <td>3.158416</td>\n",
              "      <td>131.689769</td>\n",
              "      <td>246.693069</td>\n",
              "      <td>0.148515</td>\n",
              "      <td>0.990099</td>\n",
              "      <td>149.607261</td>\n",
              "      <td>0.326733</td>\n",
              "      <td>1.039604</td>\n",
              "      <td>1.600660</td>\n",
              "      <td>0.672241</td>\n",
              "      <td>4.734219</td>\n",
              "      <td>0.937294</td>\n",
              "    </tr>\n",
              "    <tr>\n",
              "      <th>std</th>\n",
              "      <td>9.038662</td>\n",
              "      <td>0.467299</td>\n",
              "      <td>0.960126</td>\n",
              "      <td>17.599748</td>\n",
              "      <td>51.776918</td>\n",
              "      <td>0.356198</td>\n",
              "      <td>0.994971</td>\n",
              "      <td>22.875003</td>\n",
              "      <td>0.469794</td>\n",
              "      <td>1.161075</td>\n",
              "      <td>0.616226</td>\n",
              "      <td>0.937438</td>\n",
              "      <td>1.939706</td>\n",
              "      <td>1.228536</td>\n",
              "    </tr>\n",
              "    <tr>\n",
              "      <th>min</th>\n",
              "      <td>29.000000</td>\n",
              "      <td>0.000000</td>\n",
              "      <td>1.000000</td>\n",
              "      <td>94.000000</td>\n",
              "      <td>126.000000</td>\n",
              "      <td>0.000000</td>\n",
              "      <td>0.000000</td>\n",
              "      <td>71.000000</td>\n",
              "      <td>0.000000</td>\n",
              "      <td>0.000000</td>\n",
              "      <td>1.000000</td>\n",
              "      <td>0.000000</td>\n",
              "      <td>3.000000</td>\n",
              "      <td>0.000000</td>\n",
              "    </tr>\n",
              "    <tr>\n",
              "      <th>25%</th>\n",
              "      <td>48.000000</td>\n",
              "      <td>0.000000</td>\n",
              "      <td>3.000000</td>\n",
              "      <td>120.000000</td>\n",
              "      <td>211.000000</td>\n",
              "      <td>0.000000</td>\n",
              "      <td>0.000000</td>\n",
              "      <td>133.500000</td>\n",
              "      <td>0.000000</td>\n",
              "      <td>0.000000</td>\n",
              "      <td>1.000000</td>\n",
              "      <td>0.000000</td>\n",
              "      <td>3.000000</td>\n",
              "      <td>0.000000</td>\n",
              "    </tr>\n",
              "    <tr>\n",
              "      <th>50%</th>\n",
              "      <td>56.000000</td>\n",
              "      <td>1.000000</td>\n",
              "      <td>3.000000</td>\n",
              "      <td>130.000000</td>\n",
              "      <td>241.000000</td>\n",
              "      <td>0.000000</td>\n",
              "      <td>1.000000</td>\n",
              "      <td>153.000000</td>\n",
              "      <td>0.000000</td>\n",
              "      <td>0.800000</td>\n",
              "      <td>2.000000</td>\n",
              "      <td>0.000000</td>\n",
              "      <td>3.000000</td>\n",
              "      <td>0.000000</td>\n",
              "    </tr>\n",
              "    <tr>\n",
              "      <th>75%</th>\n",
              "      <td>61.000000</td>\n",
              "      <td>1.000000</td>\n",
              "      <td>4.000000</td>\n",
              "      <td>140.000000</td>\n",
              "      <td>275.000000</td>\n",
              "      <td>0.000000</td>\n",
              "      <td>2.000000</td>\n",
              "      <td>166.000000</td>\n",
              "      <td>1.000000</td>\n",
              "      <td>1.600000</td>\n",
              "      <td>2.000000</td>\n",
              "      <td>1.000000</td>\n",
              "      <td>7.000000</td>\n",
              "      <td>2.000000</td>\n",
              "    </tr>\n",
              "    <tr>\n",
              "      <th>max</th>\n",
              "      <td>77.000000</td>\n",
              "      <td>1.000000</td>\n",
              "      <td>4.000000</td>\n",
              "      <td>200.000000</td>\n",
              "      <td>564.000000</td>\n",
              "      <td>1.000000</td>\n",
              "      <td>2.000000</td>\n",
              "      <td>202.000000</td>\n",
              "      <td>1.000000</td>\n",
              "      <td>6.200000</td>\n",
              "      <td>3.000000</td>\n",
              "      <td>3.000000</td>\n",
              "      <td>7.000000</td>\n",
              "      <td>4.000000</td>\n",
              "    </tr>\n",
              "  </tbody>\n",
              "</table>\n",
              "</div>"
            ],
            "text/plain": [
              "              age         sex          cp  ...          ca        thal    presence\n",
              "count  303.000000  303.000000  303.000000  ...  299.000000  301.000000  303.000000\n",
              "mean    54.438944    0.679868    3.158416  ...    0.672241    4.734219    0.937294\n",
              "std      9.038662    0.467299    0.960126  ...    0.937438    1.939706    1.228536\n",
              "min     29.000000    0.000000    1.000000  ...    0.000000    3.000000    0.000000\n",
              "25%     48.000000    0.000000    3.000000  ...    0.000000    3.000000    0.000000\n",
              "50%     56.000000    1.000000    3.000000  ...    0.000000    3.000000    0.000000\n",
              "75%     61.000000    1.000000    4.000000  ...    1.000000    7.000000    2.000000\n",
              "max     77.000000    1.000000    4.000000  ...    3.000000    7.000000    4.000000\n",
              "\n",
              "[8 rows x 14 columns]"
            ]
          },
          "metadata": {},
          "execution_count": 7
        }
      ]
    },
    {
      "cell_type": "code",
      "metadata": {
        "colab": {
          "base_uri": "https://localhost:8080/"
        },
        "id": "NP4leWW250JA",
        "outputId": "4f193651-6b67-4450-dcd3-6b3e80e29e52"
      },
      "source": [
        "df.isna().sum()"
      ],
      "execution_count": 8,
      "outputs": [
        {
          "output_type": "execute_result",
          "data": {
            "text/plain": [
              "age         0\n",
              "sex         0\n",
              "cp          0\n",
              "trestbps    0\n",
              "chol        0\n",
              "fbs         0\n",
              "restecg     0\n",
              "thalach     0\n",
              "exang       0\n",
              "oldpeak     0\n",
              "slope       0\n",
              "ca          4\n",
              "thal        2\n",
              "presence    0\n",
              "dtype: int64"
            ]
          },
          "metadata": {},
          "execution_count": 8
        }
      ]
    },
    {
      "cell_type": "markdown",
      "metadata": {
        "id": "Mnf76ILv9nYG"
      },
      "source": [
        "Filling Missing Values"
      ]
    },
    {
      "cell_type": "code",
      "metadata": {
        "colab": {
          "base_uri": "https://localhost:8080/"
        },
        "id": "VQPMFytN7e2y",
        "outputId": "18675c29-7b07-41d9-c794-7abcd74e4da3"
      },
      "source": [
        "df = df.fillna(method='ffill')\n",
        "df.isna().sum()"
      ],
      "execution_count": 9,
      "outputs": [
        {
          "output_type": "execute_result",
          "data": {
            "text/plain": [
              "age         0\n",
              "sex         0\n",
              "cp          0\n",
              "trestbps    0\n",
              "chol        0\n",
              "fbs         0\n",
              "restecg     0\n",
              "thalach     0\n",
              "exang       0\n",
              "oldpeak     0\n",
              "slope       0\n",
              "ca          0\n",
              "thal        0\n",
              "presence    0\n",
              "dtype: int64"
            ]
          },
          "metadata": {},
          "execution_count": 9
        }
      ]
    },
    {
      "cell_type": "markdown",
      "metadata": {
        "id": "zOhGbAn77Pbq"
      },
      "source": [
        "# Data Visualization"
      ]
    },
    {
      "cell_type": "markdown",
      "metadata": {
        "id": "q8eS1Pip7VBU"
      },
      "source": [
        "Hisplot of Data Labels"
      ]
    },
    {
      "cell_type": "code",
      "metadata": {
        "colab": {
          "base_uri": "https://localhost:8080/",
          "height": 514
        },
        "id": "WejbIAEl65ps",
        "outputId": "39850daa-15d7-4414-debd-98a3f7c7c341"
      },
      "source": [
        "plt.figure(figsize=(10,8))\n",
        "sns.histplot(data=df, x='presence')"
      ],
      "execution_count": 10,
      "outputs": [
        {
          "output_type": "execute_result",
          "data": {
            "text/plain": [
              "<matplotlib.axes._subplots.AxesSubplot at 0x7fb65c886750>"
            ]
          },
          "metadata": {},
          "execution_count": 10
        },
        {
          "output_type": "display_data",
          "data": {
            "image/png": "[encoded data removed]",
            "text/plain": [
              "<Figure size 720x576 with 1 Axes>"
            ]
          },
          "metadata": {}
        }
      ]
    },
    {
      "cell_type": "markdown",
      "metadata": {
        "id": "xwgLJZbg_aum"
      },
      "source": [
        "Age vs Maximum Heart Rate Archived Groupped by Diease Presence"
      ]
    },
    {
      "cell_type": "code",
      "metadata": {
        "colab": {
          "base_uri": "https://localhost:8080/",
          "height": 514
        },
        "id": "Oa6HcVrf7j2f",
        "outputId": "347dc026-adeb-434c-840c-08d2ee5efa3f"
      },
      "source": [
        "plt.figure(figsize=(10,8))\n",
        "sns.scatterplot(x=df['thalach'], y=df['age'], hue=df['presence'], s=160, palette='YlOrBr', alpha=0.8)"
      ],
      "execution_count": 11,
      "outputs": [
        {
          "output_type": "execute_result",
          "data": {
            "text/plain": [
              "<matplotlib.axes._subplots.AxesSubplot at 0x7fb65c5191d0>"
            ]
          },
          "metadata": {},
          "execution_count": 11
        },
        {
          "output_type": "display_data",
          "data": {
            "image/png": "[encoded data removed]",
            "text/plain": [
              "<Figure size 720x576 with 1 Axes>"
            ]
          },
          "metadata": {}
        }
      ]
    },
    {
      "cell_type": "markdown",
      "metadata": {
        "id": "fJIUftNJBvS8"
      },
      "source": [
        "## Data Prepare"
      ]
    },
    {
      "cell_type": "code",
      "metadata": {
        "id": "QF9WRA96IhFK"
      },
      "source": [
        "features = df.columns[0:13].to_list()\n",
        "labels = df.columns[-1:14].to_list()"
      ],
      "execution_count": 12,
      "outputs": []
    },
    {
      "cell_type": "code",
      "metadata": {
        "id": "947wWqm5JhEc"
      },
      "source": [
        "X = df[features]\n",
        "y = df[labels]"
      ],
      "execution_count": 13,
      "outputs": []
    },
    {
      "cell_type": "code",
      "metadata": {
        "id": "byMVZCD0MBQa"
      },
      "source": [
        "X_train, X_test, y_train, y_test = train_test_split(X, y, test_size=0.3, random_state=12)"
      ],
      "execution_count": 39,
      "outputs": []
    },
    {
      "cell_type": "code",
      "metadata": {
        "id": "CeFMH-F9Ov3E"
      },
      "source": [
        "scaler = StandardScaler()\n",
        "X_train = scaler.fit_transform(X_train)\n",
        "X_test = scaler.fit_transform(X_test)"
      ],
      "execution_count": 40,
      "outputs": []
    },
    {
      "cell_type": "markdown",
      "metadata": {
        "id": "_AJ0ATK1EZRi"
      },
      "source": [
        "# Modelling With Keras"
      ]
    },
    {
      "cell_type": "markdown",
      "metadata": {
        "id": "iunPhvJGEcYG"
      },
      "source": [
        "### Define Model"
      ]
    },
    {
      "cell_type": "code",
      "metadata": {
        "id": "XTgSd6w9Eayc"
      },
      "source": [
        "model = Sequential([\n",
        "                    Dense(units=16, input_dim=13, activation='relu'),\n",
        "                    Dense(units=32, activation='relu'),\n",
        "                    Dense(units=5, activation='softmax')\n",
        "])"
      ],
      "execution_count": 41,
      "outputs": []
    },
    {
      "cell_type": "code",
      "metadata": {
        "colab": {
          "base_uri": "https://localhost:8080/"
        },
        "id": "VFjMTEOVHmNd",
        "outputId": "68509616-006f-421c-be1c-6891123e0fe5"
      },
      "source": [
        "model.summary()"
      ],
      "execution_count": 42,
      "outputs": [
        {
          "output_type": "stream",
          "name": "stdout",
          "text": [
            "Model: \"sequential_2\"\n",
            "_________________________________________________________________\n",
            "Layer (type)                 Output Shape              Param #   \n",
            "=================================================================\n",
            "dense_6 (Dense)              (None, 16)                224       \n",
            "_________________________________________________________________\n",
            "dense_7 (Dense)              (None, 32)                544       \n",
            "_________________________________________________________________\n",
            "dense_8 (Dense)              (None, 5)                 165       \n",
            "=================================================================\n",
            "Total params: 933\n",
            "Trainable params: 933\n",
            "Non-trainable params: 0\n",
            "_________________________________________________________________\n"
          ]
        }
      ]
    },
    {
      "cell_type": "markdown",
      "metadata": {
        "id": "DCH7upvkKVrq"
      },
      "source": [
        "### Compile Model"
      ]
    },
    {
      "cell_type": "code",
      "metadata": {
        "id": "lS4vvDKFKY3h"
      },
      "source": [
        "model.compile(optimizer=Adam(learning_rate=0.001), loss='sparse_categorical_crossentropy', metrics=['accuracy'])"
      ],
      "execution_count": 43,
      "outputs": []
    },
    {
      "cell_type": "markdown",
      "metadata": {
        "id": "ySBx93MVM7ZC"
      },
      "source": [
        "### Training Model"
      ]
    },
    {
      "cell_type": "code",
      "metadata": {
        "colab": {
          "base_uri": "https://localhost:8080/"
        },
        "id": "SHeIS5b3M9Fp",
        "outputId": "d6a151a6-8165-4df1-a5e6-3870076aed51"
      },
      "source": [
        "history = model.fit(x=X_train, y=y_train, validation_data=(X_test, y_test), batch_size=len(X_train), epochs=100, shuffle=True, verbose=2)"
      ],
      "execution_count": 44,
      "outputs": [
        {
          "output_type": "stream",
          "name": "stdout",
          "text": [
            "Epoch 1/100\n",
            "1/1 - 0s - loss: 1.5150 - accuracy: 0.3585 - val_loss: 1.4559 - val_accuracy: 0.3736\n",
            "Epoch 2/100\n",
            "1/1 - 0s - loss: 1.5009 - accuracy: 0.3774 - val_loss: 1.4451 - val_accuracy: 0.3846\n",
            "Epoch 3/100\n",
            "1/1 - 0s - loss: 1.4871 - accuracy: 0.4009 - val_loss: 1.4345 - val_accuracy: 0.4176\n",
            "Epoch 4/100\n",
            "1/1 - 0s - loss: 1.4736 - accuracy: 0.4104 - val_loss: 1.4241 - val_accuracy: 0.4286\n",
            "Epoch 5/100\n",
            "1/1 - 0s - loss: 1.4603 - accuracy: 0.4198 - val_loss: 1.4139 - val_accuracy: 0.4725\n",
            "Epoch 6/100\n",
            "1/1 - 0s - loss: 1.4472 - accuracy: 0.4340 - val_loss: 1.4038 - val_accuracy: 0.4725\n",
            "Epoch 7/100\n",
            "1/1 - 0s - loss: 1.4342 - accuracy: 0.4528 - val_loss: 1.3939 - val_accuracy: 0.4945\n",
            "Epoch 8/100\n",
            "1/1 - 0s - loss: 1.4214 - accuracy: 0.4764 - val_loss: 1.3841 - val_accuracy: 0.5055\n",
            "Epoch 9/100\n",
            "1/1 - 0s - loss: 1.4089 - accuracy: 0.4906 - val_loss: 1.3742 - val_accuracy: 0.5385\n",
            "Epoch 10/100\n",
            "1/1 - 0s - loss: 1.3965 - accuracy: 0.4906 - val_loss: 1.3646 - val_accuracy: 0.5495\n",
            "Epoch 11/100\n",
            "1/1 - 0s - loss: 1.3844 - accuracy: 0.5000 - val_loss: 1.3551 - val_accuracy: 0.5604\n",
            "Epoch 12/100\n",
            "1/1 - 0s - loss: 1.3724 - accuracy: 0.5094 - val_loss: 1.3457 - val_accuracy: 0.5714\n",
            "Epoch 13/100\n",
            "1/1 - 0s - loss: 1.3607 - accuracy: 0.5142 - val_loss: 1.3365 - val_accuracy: 0.5714\n",
            "Epoch 14/100\n",
            "1/1 - 0s - loss: 1.3491 - accuracy: 0.5142 - val_loss: 1.3274 - val_accuracy: 0.5714\n",
            "Epoch 15/100\n",
            "1/1 - 0s - loss: 1.3377 - accuracy: 0.5236 - val_loss: 1.3184 - val_accuracy: 0.5714\n",
            "Epoch 16/100\n",
            "1/1 - 0s - loss: 1.3265 - accuracy: 0.5377 - val_loss: 1.3094 - val_accuracy: 0.5714\n",
            "Epoch 17/100\n",
            "1/1 - 0s - loss: 1.3155 - accuracy: 0.5377 - val_loss: 1.3006 - val_accuracy: 0.5495\n",
            "Epoch 18/100\n",
            "1/1 - 0s - loss: 1.3047 - accuracy: 0.5472 - val_loss: 1.2920 - val_accuracy: 0.5385\n",
            "Epoch 19/100\n",
            "1/1 - 0s - loss: 1.2940 - accuracy: 0.5472 - val_loss: 1.2835 - val_accuracy: 0.5385\n",
            "Epoch 20/100\n",
            "1/1 - 0s - loss: 1.2836 - accuracy: 0.5566 - val_loss: 1.2751 - val_accuracy: 0.5385\n",
            "Epoch 21/100\n",
            "1/1 - 0s - loss: 1.2732 - accuracy: 0.5613 - val_loss: 1.2668 - val_accuracy: 0.5495\n",
            "Epoch 22/100\n",
            "1/1 - 0s - loss: 1.2630 - accuracy: 0.5660 - val_loss: 1.2588 - val_accuracy: 0.5495\n",
            "Epoch 23/100\n",
            "1/1 - 0s - loss: 1.2530 - accuracy: 0.5613 - val_loss: 1.2509 - val_accuracy: 0.5604\n",
            "Epoch 24/100\n",
            "1/1 - 0s - loss: 1.2431 - accuracy: 0.5566 - val_loss: 1.2432 - val_accuracy: 0.5495\n",
            "Epoch 25/100\n",
            "1/1 - 0s - loss: 1.2334 - accuracy: 0.5519 - val_loss: 1.2357 - val_accuracy: 0.5495\n",
            "Epoch 26/100\n",
            "1/1 - 0s - loss: 1.2238 - accuracy: 0.5519 - val_loss: 1.2283 - val_accuracy: 0.5495\n",
            "Epoch 27/100\n",
            "1/1 - 0s - loss: 1.2143 - accuracy: 0.5519 - val_loss: 1.2211 - val_accuracy: 0.5385\n",
            "Epoch 28/100\n",
            "1/1 - 0s - loss: 1.2050 - accuracy: 0.5519 - val_loss: 1.2140 - val_accuracy: 0.5495\n",
            "Epoch 29/100\n",
            "1/1 - 0s - loss: 1.1958 - accuracy: 0.5519 - val_loss: 1.2070 - val_accuracy: 0.5495\n",
            "Epoch 30/100\n",
            "1/1 - 0s - loss: 1.1867 - accuracy: 0.5566 - val_loss: 1.2002 - val_accuracy: 0.5604\n",
            "Epoch 31/100\n",
            "1/1 - 0s - loss: 1.1778 - accuracy: 0.5519 - val_loss: 1.1936 - val_accuracy: 0.5714\n",
            "Epoch 32/100\n",
            "1/1 - 0s - loss: 1.1690 - accuracy: 0.5519 - val_loss: 1.1871 - val_accuracy: 0.5714\n",
            "Epoch 33/100\n",
            "1/1 - 0s - loss: 1.1602 - accuracy: 0.5566 - val_loss: 1.1809 - val_accuracy: 0.5714\n",
            "Epoch 34/100\n",
            "1/1 - 0s - loss: 1.1517 - accuracy: 0.5566 - val_loss: 1.1748 - val_accuracy: 0.5714\n",
            "Epoch 35/100\n",
            "1/1 - 0s - loss: 1.1432 - accuracy: 0.5613 - val_loss: 1.1689 - val_accuracy: 0.5714\n",
            "Epoch 36/100\n",
            "1/1 - 0s - loss: 1.1350 - accuracy: 0.5613 - val_loss: 1.1631 - val_accuracy: 0.5714\n",
            "Epoch 37/100\n",
            "1/1 - 0s - loss: 1.1269 - accuracy: 0.5613 - val_loss: 1.1575 - val_accuracy: 0.5714\n",
            "Epoch 38/100\n",
            "1/1 - 0s - loss: 1.1190 - accuracy: 0.5613 - val_loss: 1.1521 - val_accuracy: 0.5714\n",
            "Epoch 39/100\n",
            "1/1 - 0s - loss: 1.1112 - accuracy: 0.5613 - val_loss: 1.1469 - val_accuracy: 0.5714\n",
            "Epoch 40/100\n",
            "1/1 - 0s - loss: 1.1036 - accuracy: 0.5613 - val_loss: 1.1419 - val_accuracy: 0.5824\n",
            "Epoch 41/100\n",
            "1/1 - 0s - loss: 1.0962 - accuracy: 0.5613 - val_loss: 1.1371 - val_accuracy: 0.5824\n",
            "Epoch 42/100\n",
            "1/1 - 0s - loss: 1.0889 - accuracy: 0.5613 - val_loss: 1.1324 - val_accuracy: 0.5824\n",
            "Epoch 43/100\n",
            "1/1 - 0s - loss: 1.0818 - accuracy: 0.5660 - val_loss: 1.1280 - val_accuracy: 0.5824\n",
            "Epoch 44/100\n",
            "1/1 - 0s - loss: 1.0749 - accuracy: 0.5660 - val_loss: 1.1239 - val_accuracy: 0.5934\n",
            "Epoch 45/100\n",
            "1/1 - 0s - loss: 1.0681 - accuracy: 0.5708 - val_loss: 1.1199 - val_accuracy: 0.5934\n",
            "Epoch 46/100\n",
            "1/1 - 0s - loss: 1.0616 - accuracy: 0.5708 - val_loss: 1.1161 - val_accuracy: 0.5934\n",
            "Epoch 47/100\n",
            "1/1 - 0s - loss: 1.0551 - accuracy: 0.5708 - val_loss: 1.1124 - val_accuracy: 0.5934\n",
            "Epoch 48/100\n",
            "1/1 - 0s - loss: 1.0488 - accuracy: 0.5708 - val_loss: 1.1090 - val_accuracy: 0.5934\n",
            "Epoch 49/100\n",
            "1/1 - 0s - loss: 1.0426 - accuracy: 0.5708 - val_loss: 1.1058 - val_accuracy: 0.5824\n",
            "Epoch 50/100\n",
            "1/1 - 0s - loss: 1.0365 - accuracy: 0.5708 - val_loss: 1.1027 - val_accuracy: 0.5824\n",
            "Epoch 51/100\n",
            "1/1 - 0s - loss: 1.0306 - accuracy: 0.5802 - val_loss: 1.0999 - val_accuracy: 0.5824\n",
            "Epoch 52/100\n",
            "1/1 - 0s - loss: 1.0248 - accuracy: 0.5802 - val_loss: 1.0972 - val_accuracy: 0.5824\n",
            "Epoch 53/100\n",
            "1/1 - 0s - loss: 1.0191 - accuracy: 0.5802 - val_loss: 1.0947 - val_accuracy: 0.5824\n",
            "Epoch 54/100\n",
            "1/1 - 0s - loss: 1.0136 - accuracy: 0.5802 - val_loss: 1.0923 - val_accuracy: 0.5824\n",
            "Epoch 55/100\n",
            "1/1 - 0s - loss: 1.0082 - accuracy: 0.5802 - val_loss: 1.0902 - val_accuracy: 0.5824\n",
            "Epoch 56/100\n",
            "1/1 - 0s - loss: 1.0029 - accuracy: 0.5802 - val_loss: 1.0882 - val_accuracy: 0.5824\n",
            "Epoch 57/100\n",
            "1/1 - 0s - loss: 0.9977 - accuracy: 0.5802 - val_loss: 1.0863 - val_accuracy: 0.5824\n",
            "Epoch 58/100\n",
            "1/1 - 0s - loss: 0.9926 - accuracy: 0.5802 - val_loss: 1.0846 - val_accuracy: 0.5824\n",
            "Epoch 59/100\n",
            "1/1 - 0s - loss: 0.9877 - accuracy: 0.5849 - val_loss: 1.0830 - val_accuracy: 0.5824\n",
            "Epoch 60/100\n",
            "1/1 - 0s - loss: 0.9827 - accuracy: 0.5849 - val_loss: 1.0815 - val_accuracy: 0.5824\n",
            "Epoch 61/100\n",
            "1/1 - 0s - loss: 0.9779 - accuracy: 0.5896 - val_loss: 1.0802 - val_accuracy: 0.5714\n",
            "Epoch 62/100\n",
            "1/1 - 0s - loss: 0.9731 - accuracy: 0.5849 - val_loss: 1.0790 - val_accuracy: 0.5714\n",
            "Epoch 63/100\n",
            "1/1 - 0s - loss: 0.9685 - accuracy: 0.5849 - val_loss: 1.0778 - val_accuracy: 0.5604\n",
            "Epoch 64/100\n",
            "1/1 - 0s - loss: 0.9640 - accuracy: 0.5849 - val_loss: 1.0768 - val_accuracy: 0.5604\n",
            "Epoch 65/100\n",
            "1/1 - 0s - loss: 0.9595 - accuracy: 0.5943 - val_loss: 1.0759 - val_accuracy: 0.5604\n",
            "Epoch 66/100\n",
            "1/1 - 0s - loss: 0.9552 - accuracy: 0.6038 - val_loss: 1.0751 - val_accuracy: 0.5604\n",
            "Epoch 67/100\n",
            "1/1 - 0s - loss: 0.9510 - accuracy: 0.5991 - val_loss: 1.0743 - val_accuracy: 0.5495\n",
            "Epoch 68/100\n",
            "1/1 - 0s - loss: 0.9468 - accuracy: 0.5991 - val_loss: 1.0736 - val_accuracy: 0.5604\n",
            "Epoch 69/100\n",
            "1/1 - 0s - loss: 0.9427 - accuracy: 0.5943 - val_loss: 1.0731 - val_accuracy: 0.5604\n",
            "Epoch 70/100\n",
            "1/1 - 0s - loss: 0.9387 - accuracy: 0.5943 - val_loss: 1.0726 - val_accuracy: 0.5604\n",
            "Epoch 71/100\n",
            "1/1 - 0s - loss: 0.9348 - accuracy: 0.5991 - val_loss: 1.0722 - val_accuracy: 0.5604\n",
            "Epoch 72/100\n",
            "1/1 - 0s - loss: 0.9309 - accuracy: 0.5991 - val_loss: 1.0718 - val_accuracy: 0.5604\n",
            "Epoch 73/100\n",
            "1/1 - 0s - loss: 0.9272 - accuracy: 0.5991 - val_loss: 1.0714 - val_accuracy: 0.5604\n",
            "Epoch 74/100\n",
            "1/1 - 0s - loss: 0.9235 - accuracy: 0.6132 - val_loss: 1.0712 - val_accuracy: 0.5604\n",
            "Epoch 75/100\n",
            "1/1 - 0s - loss: 0.9198 - accuracy: 0.6132 - val_loss: 1.0710 - val_accuracy: 0.5604\n",
            "Epoch 76/100\n",
            "1/1 - 0s - loss: 0.9163 - accuracy: 0.6179 - val_loss: 1.0710 - val_accuracy: 0.5604\n",
            "Epoch 77/100\n",
            "1/1 - 0s - loss: 0.9127 - accuracy: 0.6226 - val_loss: 1.0710 - val_accuracy: 0.5604\n",
            "Epoch 78/100\n",
            "1/1 - 0s - loss: 0.9092 - accuracy: 0.6274 - val_loss: 1.0711 - val_accuracy: 0.5604\n",
            "Epoch 79/100\n",
            "1/1 - 0s - loss: 0.9058 - accuracy: 0.6274 - val_loss: 1.0713 - val_accuracy: 0.5495\n",
            "Epoch 80/100\n",
            "1/1 - 0s - loss: 0.9024 - accuracy: 0.6368 - val_loss: 1.0714 - val_accuracy: 0.5495\n",
            "Epoch 81/100\n",
            "1/1 - 0s - loss: 0.8991 - accuracy: 0.6415 - val_loss: 1.0717 - val_accuracy: 0.5495\n",
            "Epoch 82/100\n",
            "1/1 - 0s - loss: 0.8958 - accuracy: 0.6509 - val_loss: 1.0720 - val_accuracy: 0.5495\n",
            "Epoch 83/100\n",
            "1/1 - 0s - loss: 0.8926 - accuracy: 0.6604 - val_loss: 1.0724 - val_accuracy: 0.5495\n",
            "Epoch 84/100\n",
            "1/1 - 0s - loss: 0.8894 - accuracy: 0.6604 - val_loss: 1.0728 - val_accuracy: 0.5385\n",
            "Epoch 85/100\n",
            "1/1 - 0s - loss: 0.8862 - accuracy: 0.6557 - val_loss: 1.0732 - val_accuracy: 0.5385\n",
            "Epoch 86/100\n",
            "1/1 - 0s - loss: 0.8831 - accuracy: 0.6557 - val_loss: 1.0737 - val_accuracy: 0.5385\n",
            "Epoch 87/100\n",
            "1/1 - 0s - loss: 0.8800 - accuracy: 0.6557 - val_loss: 1.0742 - val_accuracy: 0.5495\n",
            "Epoch 88/100\n",
            "1/1 - 0s - loss: 0.8769 - accuracy: 0.6557 - val_loss: 1.0748 - val_accuracy: 0.5495\n",
            "Epoch 89/100\n",
            "1/1 - 0s - loss: 0.8739 - accuracy: 0.6557 - val_loss: 1.0754 - val_accuracy: 0.5495\n",
            "Epoch 90/100\n",
            "1/1 - 0s - loss: 0.8709 - accuracy: 0.6557 - val_loss: 1.0761 - val_accuracy: 0.5495\n",
            "Epoch 91/100\n",
            "1/1 - 0s - loss: 0.8680 - accuracy: 0.6557 - val_loss: 1.0767 - val_accuracy: 0.5495\n",
            "Epoch 92/100\n",
            "1/1 - 0s - loss: 0.8651 - accuracy: 0.6557 - val_loss: 1.0775 - val_accuracy: 0.5495\n",
            "Epoch 93/100\n",
            "1/1 - 0s - loss: 0.8622 - accuracy: 0.6557 - val_loss: 1.0782 - val_accuracy: 0.5495\n",
            "Epoch 94/100\n",
            "1/1 - 0s - loss: 0.8594 - accuracy: 0.6557 - val_loss: 1.0790 - val_accuracy: 0.5495\n",
            "Epoch 95/100\n",
            "1/1 - 0s - loss: 0.8566 - accuracy: 0.6604 - val_loss: 1.0798 - val_accuracy: 0.5495\n",
            "Epoch 96/100\n",
            "1/1 - 0s - loss: 0.8538 - accuracy: 0.6604 - val_loss: 1.0806 - val_accuracy: 0.5495\n",
            "Epoch 97/100\n",
            "1/1 - 0s - loss: 0.8511 - accuracy: 0.6557 - val_loss: 1.0815 - val_accuracy: 0.5495\n",
            "Epoch 98/100\n",
            "1/1 - 0s - loss: 0.8484 - accuracy: 0.6557 - val_loss: 1.0823 - val_accuracy: 0.5604\n",
            "Epoch 99/100\n",
            "1/1 - 0s - loss: 0.8456 - accuracy: 0.6557 - val_loss: 1.0832 - val_accuracy: 0.5495\n",
            "Epoch 100/100\n",
            "1/1 - 0s - loss: 0.8429 - accuracy: 0.6557 - val_loss: 1.0841 - val_accuracy: 0.5495\n"
          ]
        }
      ]
    },
    {
      "cell_type": "markdown",
      "metadata": {
        "id": "XvQDAf6hTA2E"
      },
      "source": [
        "### Evaluate Model"
      ]
    },
    {
      "cell_type": "code",
      "metadata": {
        "colab": {
          "base_uri": "https://localhost:8080/"
        },
        "id": "YNOrjikFTGVF",
        "outputId": "93ba57de-f9b0-4f45-d733-1cb9f7d30409"
      },
      "source": [
        "_, train_acc = model.evaluate(X_train, y_train, verbose=0)\n",
        "_, test_acc = model.evaluate(X_test, y_test, verbose=0)\n",
        "print('Train Accuracy: %.3f, Test Accuracy: %.3f' % (train_acc, test_acc))"
      ],
      "execution_count": 45,
      "outputs": [
        {
          "output_type": "stream",
          "name": "stdout",
          "text": [
            "Train Accuracy: 0.660, Test Accuracy: 0.549\n"
          ]
        }
      ]
    },
    {
      "cell_type": "code",
      "metadata": {
        "colab": {
          "base_uri": "https://localhost:8080/",
          "height": 265
        },
        "id": "EtSbrdOrU37B",
        "outputId": "a10371f8-8fe6-4fec-ad40-a7a15676a0f6"
      },
      "source": [
        "# plot training history\n",
        "\n",
        "plt.plot(history.history['accuracy'], label='Train')\n",
        "plt.plot(history.history['val_accuracy'], label='Valid')\n",
        "plt.legend()\n",
        "plt.show()"
      ],
      "execution_count": 46,
      "outputs": [
        {
          "output_type": "display_data",
          "data": {
            "image/png": "[encoded data removed]",
            "text/plain": [
              "<Figure size 432x288 with 1 Axes>"
            ]
          },
          "metadata": {}
        }
      ]
    }
  ]
}